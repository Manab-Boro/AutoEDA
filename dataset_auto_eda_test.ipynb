{
 "cells": [
  {
   "cell_type": "code",
   "execution_count": 32,
   "metadata": {},
   "outputs": [],
   "source": [
    "import pandas as pd\n",
    "import numpy as np\n",
    "import os\n",
    "from scipy.stats import skew, kurtosis \n",
    "import matplotlib.pyplot as plt\n",
    "from matplotlib.animation import HTMLWriter\n",
    "import seaborn as sns\n",
    "import warnings\n",
    "from tqdm import tqdm\n",
    "import base64\n",
    "from io import BytesIO\n",
    "from IPython.display import HTML\n",
    "# pd.set_option('display.max_columns', 500)\n",
    "import matplotlib\n",
    "# matplotlib.use('Agg')\n",
    "pd.set_option('display.float_format', '{:.3f}'.format)\n",
    "from collections import Counter\n",
    "\n",
    "from AutoEDAHelper import AutoEDAHelper\n",
    "from AutoEDA import AutoEDA"
   ]
  },
  {
   "cell_type": "code",
   "execution_count": 36,
   "metadata": {},
   "outputs": [
    {
     "name": "stdout",
     "output_type": "stream",
     "text": [
      "step 1/4: initializing dataframe\n",
      "step 2/4: extracting information for each columns\n"
     ]
    },
    {
     "name": "stderr",
     "output_type": "stream",
     "text": [
      "100%|██████████| 8/8 [00:20<00:00,  2.52s/it, Country]    "
     ]
    },
    {
     "name": "stdout",
     "output_type": "stream",
     "text": [
      "step 3/4: wrapping up html\n"
     ]
    },
    {
     "name": "stderr",
     "output_type": "stream",
     "text": [
      "\n"
     ]
    }
   ],
   "source": [
    "dataset_file= R\"D:\\Scaler\\projects\\automated_eda\\dataset_in\\Online Retail II UCI\\online_retail_II.csv\"\n",
    "# dataset_file= R\"D:\\Scaler\\projects\\automated_eda\\dataset_in\\Credit EDA Case Study\\application_data.csv\"\n",
    "\n",
    "# dataset_file= R\"D:\\Scaler\\projects\\automated_eda\\dataset_in\\basketball_players.csv\"\n",
    "\n",
    "df= pd.read_csv(dataset_file)\n",
    "auto_eda= AutoEDA(dataset_file)"
   ]
  },
  {
   "cell_type": "code",
   "execution_count": null,
   "metadata": {},
   "outputs": [],
   "source": []
  },
  {
   "cell_type": "code",
   "execution_count": null,
   "metadata": {},
   "outputs": [],
   "source": []
  },
  {
   "cell_type": "code",
   "execution_count": null,
   "metadata": {},
   "outputs": [],
   "source": []
  },
  {
   "cell_type": "code",
   "execution_count": null,
   "metadata": {},
   "outputs": [],
   "source": []
  },
  {
   "cell_type": "code",
   "execution_count": null,
   "metadata": {},
   "outputs": [],
   "source": []
  },
  {
   "cell_type": "code",
   "execution_count": null,
   "metadata": {},
   "outputs": [],
   "source": []
  },
  {
   "cell_type": "code",
   "execution_count": null,
   "metadata": {},
   "outputs": [],
   "source": []
  }
 ],
 "metadata": {
  "kernelspec": {
   "display_name": "Python 3",
   "language": "python",
   "name": "python3"
  },
  "language_info": {
   "codemirror_mode": {
    "name": "ipython",
    "version": 3
   },
   "file_extension": ".py",
   "mimetype": "text/x-python",
   "name": "python",
   "nbconvert_exporter": "python",
   "pygments_lexer": "ipython3",
   "version": "3.12.0"
  }
 },
 "nbformat": 4,
 "nbformat_minor": 2
}
